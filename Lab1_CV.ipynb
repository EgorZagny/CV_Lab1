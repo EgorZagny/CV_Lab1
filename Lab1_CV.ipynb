{
 "cells": [
  {
   "cell_type": "code",
   "execution_count": 2,
   "metadata": {},
   "outputs": [],
   "source": [
    "import cv2\n",
    "\n",
    "camera = cv2.VideoCapture(0)\n",
    "fourcc = cv2.VideoWriter_fourcc(*'XVID')\n",
    "out = cv2.VideoWriter('video1.avi',fourcc, 20.0, (640,480))\n",
    "\n",
    "count = 100 #Кількість кадрів у відео\n",
    "\n",
    "for i in range(count):\n",
    "    # Робимо один кадр\n",
    "    return_value, video1 = camera.read()\n",
    "    \n",
    "    out.write(video1)#Записуємо цей кадр\n",
    "\n",
    "    # виводимо цей кадр\n",
    "    cv2.imshow('window 1', video1)\n",
    "    if cv2.waitKey(1) & 0xFF == ord('q'):\n",
    "        break\n",
    "\n",
    "camera.release()\n",
    "out.release()\n",
    "cv2.destroyAllWindows()\n",
    "\n",
    "camera = cv2.VideoCapture('video1.avi')#Зчитуємо відео з диску\n",
    "\n",
    "while True:\n",
    "\n",
    "    ret, video1 = camera.read()\n",
    "\n",
    "    if ret == True:\n",
    "        \n",
    "        #робимо зображення сірим\n",
    "        video2 = cv2.cvtColor(video1, cv2.COLOR_BGR2GRAY)\n",
    "        video2 = cv2.cvtColor(video2, cv2.COLOR_GRAY2BGR)\n",
    "        \n",
    "        x1, y1 = 50, 20\n",
    "        x2, y2 = 200, 400\n",
    "        line_thickness = 10\n",
    "\n",
    "        cv2.line(video2, (x1, y1), (x2, y2), (0, 255, 255), line_thickness)#малюємо лінію\n",
    "        cv2.rectangle(video2, (x1, y1), (x2, y2), (255,0,0), line_thickness)#малюємо прямокутник\n",
    "\n",
    "        cv2.imshow('window 2',video2)#виводимо результат\n",
    "\n",
    "\n",
    "        if cv2.waitKey(30) & 0xFF == ord('q'):\n",
    "            break\n",
    "\n",
    "    else:\n",
    "        break\n",
    "\n",
    "camera.release()\n",
    "cv2.destroyAllWindows()"
   ]
  },
  {
   "cell_type": "code",
   "execution_count": null,
   "metadata": {},
   "outputs": [],
   "source": []
  }
 ],
 "metadata": {
  "kernelspec": {
   "display_name": "Python 3",
   "language": "python",
   "name": "python3"
  },
  "language_info": {
   "codemirror_mode": {
    "name": "ipython",
    "version": 3
   },
   "file_extension": ".py",
   "mimetype": "text/x-python",
   "name": "python",
   "nbconvert_exporter": "python",
   "pygments_lexer": "ipython3",
   "version": "3.7.4"
  }
 },
 "nbformat": 4,
 "nbformat_minor": 4
}
